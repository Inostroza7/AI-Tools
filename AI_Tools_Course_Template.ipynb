{
  "cells": [
    {
      "cell_type": "markdown",
      "metadata": {
        "id": "view-in-github",
        "colab_type": "text"
      },
      "source": [
        "<a href=\"https://colab.research.google.com/github/Inostroza7/AI-Tools/blob/main/AI_Tools_Course_Template.ipynb\" target=\"_parent\"><img src=\"https://colab.research.google.com/assets/colab-badge.svg\" alt=\"Open In Colab\"/></a>"
      ]
    },
    {
      "cell_type": "markdown",
      "id": "7842695f",
      "metadata": {
        "id": "7842695f"
      },
      "source": [
        "# 🛠️ AI Tools Course 🤖"
      ]
    },
    {
      "cell_type": "markdown",
      "id": "213706dd",
      "metadata": {
        "id": "213706dd"
      },
      "source": [
        "\n",
        "## Descripción 📝\n",
        "\n",
        "Este curso está diseñado para profesionales, estudiantes y aficionados que deseen entender y aplicar diversas herramientas IA en sus proyectos. Cubriremos las siguientes herramientas:\n",
        "\n",
        "- **Voice-Text**: Conversión de voz a texto (Whisper-Deepgram)\n",
        "- **Text-Speech**: Conversión de texto a voz (ElevenLabs)\n",
        "- **Text-Image**: Generación de imágenes a partir de descripciones de texto (Dalle-Midjourney)\n",
        "- **Image-Video**: Creación de vídeos a partir de imágenes (Runway)\n",
        "- **Llama2**: Una herramienta integral para diversas tareas de IA\n",
        "    "
      ]
    },
    {
      "cell_type": "markdown",
      "id": "83f0bb2b",
      "metadata": {
        "id": "83f0bb2b"
      },
      "source": [
        "\n",
        "## 💡 Requisitos Previos\n",
        "\n",
        "- Conocimientos básicos en programación (Python recomendado)\n",
        "- Acceso a Internet para la instalación de herramientas\n",
        "    "
      ]
    },
    {
      "cell_type": "markdown",
      "id": "af571f0b",
      "metadata": {
        "id": "af571f0b"
      },
      "source": [
        "\n",
        "## 📦 Instalación\n",
        "\n",
        "Se incluirán instrucciones detalladas para la instalación de las respectivas herramientas en cada sección del curso.\n",
        "    "
      ]
    },
    {
      "cell_type": "markdown",
      "id": "61139305",
      "metadata": {
        "id": "61139305"
      },
      "source": [
        "\n",
        "## Voice-Text 🎙️📝\n",
        "\n",
        "### Whisper\n",
        "\n"
      ]
    },
    {
      "cell_type": "markdown",
      "id": "82268f2a",
      "metadata": {
        "id": "82268f2a"
      },
      "source": [
        "Instalamos Whisper"
      ]
    },
    {
      "cell_type": "code",
      "execution_count": null,
      "id": "225ee5dc",
      "metadata": {
        "id": "225ee5dc"
      },
      "outputs": [],
      "source": [
        "pip install -U openai-whisper"
      ]
    },
    {
      "cell_type": "markdown",
      "id": "3f503865",
      "metadata": {
        "id": "3f503865"
      },
      "source": [
        "Transcribimos nuestro audio"
      ]
    },
    {
      "cell_type": "code",
      "execution_count": null,
      "id": "b131caf9",
      "metadata": {
        "id": "b131caf9"
      },
      "outputs": [],
      "source": [
        "import whisper\n",
        "\n",
        "model = whisper.load_model(\"base\")\n",
        "result = model.transcribe(\"audio.mp3\")\n",
        "print(\"Listo!\")"
      ]
    },
    {
      "cell_type": "markdown",
      "id": "2631dfa2",
      "metadata": {
        "id": "2631dfa2"
      },
      "source": [
        "Veamos el resultado"
      ]
    },
    {
      "cell_type": "code",
      "execution_count": null,
      "id": "75ed099e",
      "metadata": {
        "id": "75ed099e"
      },
      "outputs": [],
      "source": [
        "print(result[\"text\"])"
      ]
    },
    {
      "cell_type": "markdown",
      "id": "79be4164",
      "metadata": {
        "id": "79be4164"
      },
      "source": [
        "\n",
        "## Text-Speech 📝🗣\n",
        "\n",
        "### ElevenLabs\n"
      ]
    },
    {
      "cell_type": "markdown",
      "id": "1be96c4c",
      "metadata": {
        "id": "1be96c4c"
      },
      "source": [
        "Instalamos ElevenLabs"
      ]
    },
    {
      "cell_type": "code",
      "execution_count": null,
      "id": "33925a5a",
      "metadata": {
        "id": "33925a5a"
      },
      "outputs": [],
      "source": [
        "pip install elevenlabs"
      ]
    },
    {
      "cell_type": "markdown",
      "id": "785a1b96",
      "metadata": {
        "id": "785a1b96"
      },
      "source": [
        "Generamos nuestro audio"
      ]
    },
    {
      "cell_type": "code",
      "execution_count": null,
      "id": "48a63ce3",
      "metadata": {
        "id": "48a63ce3"
      },
      "outputs": [],
      "source": [
        "impport loadenv"
      ]
    },
    {
      "cell_type": "code",
      "execution_count": null,
      "id": "f7114a2c",
      "metadata": {
        "id": "f7114a2c"
      },
      "outputs": [],
      "source": [
        "import requests\n",
        "from elevenlabs import generate, save, set_api_key\n",
        "import os\n",
        "from dotenv import load_dotenv\n",
        "load_dotenv()\n",
        "\n",
        "elevenlabs_API = os.getenv(\"ELEVENLABS_API_KEY\")\n",
        "set_api_key(elevenlabs_API)\n",
        "\n",
        "audio = generate(\n",
        "    text=\"Bienvenidos a este curso de inteligencia artificial\",\n",
        "    voice=\"Arnold\",\n",
        "    model=\"eleven_multilingual_v2\"\n",
        ")\n",
        "\n",
        "save(audio, \"output.wav\")\n"
      ]
    },
    {
      "cell_type": "markdown",
      "id": "bc1ef961",
      "metadata": {
        "id": "bc1ef961"
      },
      "source": [
        "https://elevenlabs.io/speech-synthesis"
      ]
    },
    {
      "cell_type": "markdown",
      "id": "6343d433",
      "metadata": {
        "id": "6343d433"
      },
      "source": [
        "\n",
        "## Text-Image 📝🎨\n",
        "\n"
      ]
    },
    {
      "cell_type": "code",
      "execution_count": null,
      "id": "2063debb",
      "metadata": {
        "id": "2063debb"
      },
      "outputs": [],
      "source": [
        "prompt = \"a corgi\"\n",
        "prompt = \"Batman 16k --ar 9:16 --v 5.2\"\n",
        "prompt = \"Breakfast spread in a luxury hotel restaurant\""
      ]
    },
    {
      "cell_type": "markdown",
      "id": "8e168ea5",
      "metadata": {
        "id": "8e168ea5"
      },
      "source": [
        "### DALL-E"
      ]
    },
    {
      "cell_type": "code",
      "execution_count": null,
      "id": "81ea158d",
      "metadata": {
        "id": "81ea158d"
      },
      "outputs": [],
      "source": [
        "import openai\n",
        "\n",
        "response = openai.Image.create(\n",
        "  prompt=prompt,\n",
        "  n=1,\n",
        "  size=\"1024x1024\"\n",
        ")\n",
        "image_url = response['data'][0]['url']"
      ]
    },
    {
      "cell_type": "markdown",
      "id": "f4c23de5",
      "metadata": {
        "id": "f4c23de5"
      },
      "source": [
        "Prompt 1"
      ]
    },
    {
      "cell_type": "code",
      "execution_count": null,
      "id": "919c85af",
      "metadata": {
        "id": "919c85af"
      },
      "outputs": [],
      "source": [
        "from IPython.display import Image\n",
        "\n",
        "Image(url=image_url)"
      ]
    },
    {
      "cell_type": "markdown",
      "id": "a1e57d80",
      "metadata": {
        "id": "a1e57d80"
      },
      "source": [
        "Prompt 2"
      ]
    },
    {
      "cell_type": "code",
      "execution_count": null,
      "id": "f568fc58",
      "metadata": {
        "id": "f568fc58"
      },
      "outputs": [],
      "source": [
        "from IPython.display import Image\n",
        "\n",
        "Image(url=image_url)"
      ]
    },
    {
      "cell_type": "markdown",
      "id": "1a7df775",
      "metadata": {
        "id": "1a7df775"
      },
      "source": [
        "Prompt 3"
      ]
    },
    {
      "cell_type": "code",
      "execution_count": null,
      "id": "f53a0d13",
      "metadata": {
        "id": "f53a0d13"
      },
      "outputs": [],
      "source": [
        "from IPython.display import Image\n",
        "\n",
        "Image(url=image_url)"
      ]
    },
    {
      "cell_type": "markdown",
      "id": "07c1123f",
      "metadata": {
        "id": "07c1123f"
      },
      "source": [
        "### Midjourney"
      ]
    },
    {
      "cell_type": "code",
      "execution_count": null,
      "id": "706212e2",
      "metadata": {
        "id": "706212e2"
      },
      "outputs": [],
      "source": [
        "from midjourney_api import TNL\n",
        "import os\n",
        "\n",
        "TNL_API_KEY = os.getenv(\"TNL_API_KEY\")\n",
        "tnl = TNL(TNL_API_KEY)"
      ]
    },
    {
      "cell_type": "code",
      "execution_count": null,
      "id": "aa4be91f",
      "metadata": {
        "id": "aa4be91f"
      },
      "outputs": [],
      "source": [
        "messageId = tnl.imagine(prompt=prompt)\n",
        "messageId = messageId['messageId']"
      ]
    },
    {
      "cell_type": "code",
      "execution_count": null,
      "id": "7b745797",
      "metadata": {
        "id": "7b745797"
      },
      "outputs": [],
      "source": [
        "import time\n",
        "\n",
        "# Start the process\n",
        "messageId = tnl.imagine(prompt=prompt)\n",
        "messageId = messageId['messageId']\n",
        "\n",
        "while True:\n",
        "    # Get the progress\n",
        "    response = tnl.get_message_and_progress(messageId, expire_mins=2)\n",
        "\n",
        "    # If progress is 100%, display the final image URL and break the loop\n",
        "    if response['progress'] == 100:\n",
        "        print(\"Image creation completed!\")\n",
        "        print(f\"Final Image: {response['response']['imageUrl']}\")\n",
        "        break\n",
        "\n",
        "    # Sleep for a short duration before checking again\n",
        "    time.sleep(5)  # wait for 5 seconds before checking again\n"
      ]
    },
    {
      "cell_type": "markdown",
      "id": "95fb0aa8",
      "metadata": {
        "id": "95fb0aa8"
      },
      "source": [
        "Prompt 1"
      ]
    },
    {
      "cell_type": "code",
      "execution_count": null,
      "id": "adb98fb6",
      "metadata": {
        "id": "adb98fb6"
      },
      "outputs": [],
      "source": [
        "from IPython.display import Image\n",
        "\n",
        "image_url_mj = response['response']['imageUrl']\n",
        "Image(url=image_url_mj)"
      ]
    }
  ],
  "metadata": {
    "kernelspec": {
      "display_name": "Python 3",
      "name": "python3"
    },
    "language_info": {
      "codemirror_mode": {
        "name": "ipython",
        "version": 3
      },
      "file_extension": ".py",
      "mimetype": "text/x-python",
      "name": "python",
      "nbconvert_exporter": "python",
      "pygments_lexer": "ipython3",
      "version": "3.11.4"
    },
    "colab": {
      "provenance": [],
      "include_colab_link": true
    }
  },
  "nbformat": 4,
  "nbformat_minor": 5
}